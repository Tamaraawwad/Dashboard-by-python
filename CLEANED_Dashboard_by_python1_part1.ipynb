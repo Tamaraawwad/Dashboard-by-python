{
 "cells": [
  {
   "cell_type": "code",
   "execution_count": null,
   "metadata": {},
   "outputs": [],
   "source": [
    "import piplite\n",
    "\n",
    "await piplite.install(['nbformat', 'plotly'])"
   ]
  },
  {
   "cell_type": "code",
   "execution_count": null,
   "metadata": {},
   "outputs": [],
   "source": [
    "# Import required libraries\n",
    "import pandas as pd\n",
    "import numpy as np\n",
    "import plotly.express as px\n",
    "import plotly.graph_objects as go"
   ]
  },
  {
   "cell_type": "code",
   "execution_count": null,
   "metadata": {},
   "outputs": [],
   "source": [
    "##Example 1: Let us illustrate the income vs age of people in a scatter plot\n",
    "\n",
    "age_array=np.random.randint(25,55,60)\n",
    "# Define an array containing salesamount values\n",
    "income_array=np.random.randint(300000,700000,3000000)"
   ]
  },
  {
   "cell_type": "code",
   "execution_count": null,
   "metadata": {},
   "outputs": [],
   "source": [
    "##First we will create an empty figure using go.Figure()\n",
    "fig=go.Figure()\n",
    "fig"
   ]
  },
  {
   "cell_type": "code",
   "execution_count": null,
   "metadata": {},
   "outputs": [],
   "source": [
    "#Next we will create a scatter plot by using the add_trace function and use the go.scatter() function within it\n",
    "# In go.Scatter we define the x-axis data,y-axis data and define the mode as markers with color of the marker as blue\n",
    "fig.add_trace(go.Scatter(x=age_array, y=income_array, mode='markers', marker=dict(color='blue')))"
   ]
  }
 ],
 "metadata": {},
 "nbformat": 4,
 "nbformat_minor": 0
}
